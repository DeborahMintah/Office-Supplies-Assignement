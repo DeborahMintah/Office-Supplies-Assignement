{
 "cells": [
  {
   "cell_type": "markdown",
   "id": "f7bae59b",
   "metadata": {},
   "source": [
    "### Importing Libraries"
   ]
  },
  {
   "cell_type": "code",
   "execution_count": 1,
   "id": "df899509",
   "metadata": {},
   "outputs": [],
   "source": [
    "import pandas as pd\n",
    "import numpy as np\n",
    "import matplotlib.pyplot as plt"
   ]
  },
  {
   "cell_type": "markdown",
   "id": "47241fc9",
   "metadata": {},
   "source": [
    "### Importing Data"
   ]
  },
  {
   "cell_type": "code",
   "execution_count": 2,
   "id": "a9eedc12",
   "metadata": {},
   "outputs": [
    {
     "data": {
      "text/html": [
       "<div>\n",
       "<style scoped>\n",
       "    .dataframe tbody tr th:only-of-type {\n",
       "        vertical-align: middle;\n",
       "    }\n",
       "\n",
       "    .dataframe tbody tr th {\n",
       "        vertical-align: top;\n",
       "    }\n",
       "\n",
       "    .dataframe thead th {\n",
       "        text-align: right;\n",
       "    }\n",
       "</style>\n",
       "<table border=\"1\" class=\"dataframe\">\n",
       "  <thead>\n",
       "    <tr style=\"text-align: right;\">\n",
       "      <th></th>\n",
       "      <th>YEAR</th>\n",
       "      <th>MONTH</th>\n",
       "      <th>COMMODITY</th>\n",
       "      <th>WEIGHT, KG PER BAG</th>\n",
       "      <th>PRICE, ¢ GH</th>\n",
       "    </tr>\n",
       "  </thead>\n",
       "  <tbody>\n",
       "    <tr>\n",
       "      <th>0</th>\n",
       "      <td>2008</td>\n",
       "      <td>JANUARY</td>\n",
       "      <td>MAIZE</td>\n",
       "      <td>100</td>\n",
       "      <td>13.694</td>\n",
       "    </tr>\n",
       "    <tr>\n",
       "      <th>1</th>\n",
       "      <td>2008</td>\n",
       "      <td>FEBRUARY</td>\n",
       "      <td>MAIZE</td>\n",
       "      <td>100</td>\n",
       "      <td>13.066</td>\n",
       "    </tr>\n",
       "    <tr>\n",
       "      <th>2</th>\n",
       "      <td>2008</td>\n",
       "      <td>MARCH</td>\n",
       "      <td>MAIZE</td>\n",
       "      <td>100</td>\n",
       "      <td>14.043</td>\n",
       "    </tr>\n",
       "    <tr>\n",
       "      <th>3</th>\n",
       "      <td>2008</td>\n",
       "      <td>APRIL</td>\n",
       "      <td>MAIZE</td>\n",
       "      <td>100</td>\n",
       "      <td>14.947</td>\n",
       "    </tr>\n",
       "    <tr>\n",
       "      <th>4</th>\n",
       "      <td>2008</td>\n",
       "      <td>MAY</td>\n",
       "      <td>MAIZE</td>\n",
       "      <td>100</td>\n",
       "      <td>14.808</td>\n",
       "    </tr>\n",
       "    <tr>\n",
       "      <th>...</th>\n",
       "      <td>...</td>\n",
       "      <td>...</td>\n",
       "      <td>...</td>\n",
       "      <td>...</td>\n",
       "      <td>...</td>\n",
       "    </tr>\n",
       "    <tr>\n",
       "      <th>715</th>\n",
       "      <td>2017</td>\n",
       "      <td>AUGUST</td>\n",
       "      <td>COCOYAM</td>\n",
       "      <td>91</td>\n",
       "      <td>208.950</td>\n",
       "    </tr>\n",
       "    <tr>\n",
       "      <th>716</th>\n",
       "      <td>2017</td>\n",
       "      <td>SEPTEMBER</td>\n",
       "      <td>COCOYAM</td>\n",
       "      <td>91</td>\n",
       "      <td>193.720</td>\n",
       "    </tr>\n",
       "    <tr>\n",
       "      <th>717</th>\n",
       "      <td>2017</td>\n",
       "      <td>OCTOBER</td>\n",
       "      <td>COCOYAM</td>\n",
       "      <td>91</td>\n",
       "      <td>210.270</td>\n",
       "    </tr>\n",
       "    <tr>\n",
       "      <th>718</th>\n",
       "      <td>2017</td>\n",
       "      <td>NOVEMBER</td>\n",
       "      <td>COCOYAM</td>\n",
       "      <td>91</td>\n",
       "      <td>197.450</td>\n",
       "    </tr>\n",
       "    <tr>\n",
       "      <th>719</th>\n",
       "      <td>2017</td>\n",
       "      <td>DECEMBER</td>\n",
       "      <td>COCOYAM</td>\n",
       "      <td>91</td>\n",
       "      <td>195.170</td>\n",
       "    </tr>\n",
       "  </tbody>\n",
       "</table>\n",
       "<p>720 rows × 5 columns</p>\n",
       "</div>"
      ],
      "text/plain": [
       "     YEAR      MONTH COMMODITY  WEIGHT, KG PER BAG   PRICE, ¢ GH\n",
       "0    2008    JANUARY     MAIZE                 100        13.694\n",
       "1    2008   FEBRUARY     MAIZE                 100        13.066\n",
       "2    2008      MARCH     MAIZE                 100        14.043\n",
       "3    2008      APRIL     MAIZE                 100        14.947\n",
       "4    2008        MAY     MAIZE                 100        14.808\n",
       "..    ...        ...       ...                 ...           ...\n",
       "715  2017     AUGUST   COCOYAM                  91       208.950\n",
       "716  2017  SEPTEMBER   COCOYAM                  91       193.720\n",
       "717  2017    OCTOBER   COCOYAM                  91       210.270\n",
       "718  2017   NOVEMBER   COCOYAM                  91       197.450\n",
       "719  2017   DECEMBER   COCOYAM                  91       195.170\n",
       "\n",
       "[720 rows x 5 columns]"
      ]
     },
     "execution_count": 2,
     "metadata": {},
     "output_type": "execute_result"
    }
   ],
   "source": [
    "commodities = pd.read_excel('modified.xlsx')\n",
    "commodities"
   ]
  },
  {
   "cell_type": "markdown",
   "id": "c6da4274",
   "metadata": {},
   "source": [
    "### Basic Manipulations"
   ]
  },
  {
   "cell_type": "code",
   "execution_count": 3,
   "id": "b0454e13",
   "metadata": {},
   "outputs": [
    {
     "name": "stdout",
     "output_type": "stream",
     "text": [
      "<class 'pandas.core.frame.DataFrame'>\n",
      "RangeIndex: 720 entries, 0 to 719\n",
      "Data columns (total 5 columns):\n",
      " #   Column              Non-Null Count  Dtype  \n",
      "---  ------              --------------  -----  \n",
      " 0   YEAR                720 non-null    int64  \n",
      " 1   MONTH               720 non-null    object \n",
      " 2   COMMODITY           720 non-null    object \n",
      " 3   WEIGHT, KG PER BAG  720 non-null    int64  \n",
      " 4    PRICE, ¢ GH        720 non-null    float64\n",
      "dtypes: float64(1), int64(2), object(2)\n",
      "memory usage: 28.2+ KB\n"
     ]
    }
   ],
   "source": [
    "### info about the data\n",
    "commodities.info()"
   ]
  },
  {
   "cell_type": "code",
   "execution_count": 4,
   "id": "4ca921eb",
   "metadata": {},
   "outputs": [
    {
     "data": {
      "text/plain": [
       "YEAR                  0\n",
       "MONTH                 0\n",
       "COMMODITY             0\n",
       "WEIGHT, KG PER BAG    0\n",
       " PRICE, ¢ GH          0\n",
       "dtype: int64"
      ]
     },
     "execution_count": 4,
     "metadata": {},
     "output_type": "execute_result"
    }
   ],
   "source": [
    "### finding the null values\n",
    "commodities.isnull().sum()"
   ]
  },
  {
   "cell_type": "code",
   "execution_count": 5,
   "id": "2f1b7698",
   "metadata": {},
   "outputs": [
    {
     "data": {
      "text/html": [
       "<div>\n",
       "<style scoped>\n",
       "    .dataframe tbody tr th:only-of-type {\n",
       "        vertical-align: middle;\n",
       "    }\n",
       "\n",
       "    .dataframe tbody tr th {\n",
       "        vertical-align: top;\n",
       "    }\n",
       "\n",
       "    .dataframe thead th {\n",
       "        text-align: right;\n",
       "    }\n",
       "</style>\n",
       "<table border=\"1\" class=\"dataframe\">\n",
       "  <thead>\n",
       "    <tr style=\"text-align: right;\">\n",
       "      <th></th>\n",
       "      <th>YEAR</th>\n",
       "      <th>WEIGHT, KG PER BAG</th>\n",
       "      <th>PRICE, ¢ GH</th>\n",
       "    </tr>\n",
       "  </thead>\n",
       "  <tbody>\n",
       "    <tr>\n",
       "      <th>count</th>\n",
       "      <td>720.000000</td>\n",
       "      <td>720.000000</td>\n",
       "      <td>720.000000</td>\n",
       "    </tr>\n",
       "    <tr>\n",
       "      <th>mean</th>\n",
       "      <td>2012.491667</td>\n",
       "      <td>123.833333</td>\n",
       "      <td>113.982091</td>\n",
       "    </tr>\n",
       "    <tr>\n",
       "      <th>std</th>\n",
       "      <td>2.871361</td>\n",
       "      <td>56.759258</td>\n",
       "      <td>162.115749</td>\n",
       "    </tr>\n",
       "    <tr>\n",
       "      <th>min</th>\n",
       "      <td>2008.000000</td>\n",
       "      <td>91.000000</td>\n",
       "      <td>0.007000</td>\n",
       "    </tr>\n",
       "    <tr>\n",
       "      <th>25%</th>\n",
       "      <td>2010.000000</td>\n",
       "      <td>93.000000</td>\n",
       "      <td>15.141000</td>\n",
       "    </tr>\n",
       "    <tr>\n",
       "      <th>50%</th>\n",
       "      <td>2012.500000</td>\n",
       "      <td>100.000000</td>\n",
       "      <td>52.390000</td>\n",
       "    </tr>\n",
       "    <tr>\n",
       "      <th>75%</th>\n",
       "      <td>2015.000000</td>\n",
       "      <td>109.000000</td>\n",
       "      <td>140.122500</td>\n",
       "    </tr>\n",
       "    <tr>\n",
       "      <th>max</th>\n",
       "      <td>2017.000000</td>\n",
       "      <td>250.000000</td>\n",
       "      <td>920.550000</td>\n",
       "    </tr>\n",
       "  </tbody>\n",
       "</table>\n",
       "</div>"
      ],
      "text/plain": [
       "              YEAR  WEIGHT, KG PER BAG   PRICE, ¢ GH\n",
       "count   720.000000          720.000000    720.000000\n",
       "mean   2012.491667          123.833333    113.982091\n",
       "std       2.871361           56.759258    162.115749\n",
       "min    2008.000000           91.000000      0.007000\n",
       "25%    2010.000000           93.000000     15.141000\n",
       "50%    2012.500000          100.000000     52.390000\n",
       "75%    2015.000000          109.000000    140.122500\n",
       "max    2017.000000          250.000000    920.550000"
      ]
     },
     "execution_count": 5,
     "metadata": {},
     "output_type": "execute_result"
    }
   ],
   "source": [
    "### finding the data aggregation\n",
    "commodities.describe()"
   ]
  },
  {
   "cell_type": "markdown",
   "id": "926cb2d9",
   "metadata": {},
   "source": [
    "## Univarite Analysis"
   ]
  },
  {
   "cell_type": "markdown",
   "id": "a5593057",
   "metadata": {},
   "source": [
    "\n"
   ]
  },
  {
   "cell_type": "markdown",
   "id": "f3463d7a",
   "metadata": {},
   "source": [
    "### Price"
   ]
  },
  {
   "cell_type": "code",
   "execution_count": 6,
   "id": "adc453ab",
   "metadata": {},
   "outputs": [
    {
     "data": {
      "text/plain": [
       "count    720.000000\n",
       "mean     113.982091\n",
       "std      162.115749\n",
       "min        0.007000\n",
       "25%       15.141000\n",
       "50%       52.390000\n",
       "75%      140.122500\n",
       "max      920.550000\n",
       "Name:  PRICE, ¢ GH, dtype: float64"
      ]
     },
     "execution_count": 6,
     "metadata": {},
     "output_type": "execute_result"
    }
   ],
   "source": [
    "commodities[' PRICE, ¢ GH'].describe()"
   ]
  },
  {
   "cell_type": "code",
   "execution_count": 7,
   "id": "e19d9a16",
   "metadata": {},
   "outputs": [
    {
     "data": {
      "image/png": "[encoded data removed]",
      "text/plain": [
       "<Figure size 576x576 with 1 Axes>"
      ]
     },
     "metadata": {
      "needs_background": "light"
     },
     "output_type": "display_data"
    }
   ],
   "source": [
    "plt.figure(figsize = (8,8))\n",
    "plt.boxplot(commodities[' PRICE, ¢ GH'])\n",
    "plt.title('Distribution of Price', size = 12)\n",
    "plt.xlabel('Wholesale Commodities', size = 12)\n",
    "plt.ylabel('Price of Wholesale Commodities in Cedis', size = 12)\n",
    "plt.show()"
   ]
  },
  {
   "cell_type": "markdown",
   "id": "d20d64e2",
   "metadata": {},
   "source": [
    "From the diagram, the maximum price is **GHS920** and 50% of the commodities were wholesaled at GHS52 or less. The remaining 50% of the commodities were wholesaled at prices above GHS52. Meaning the company will make more profit. \n"
   ]
  },
  {
   "cell_type": "markdown",
   "id": "a6af2de5",
   "metadata": {},
   "source": [
    "### Weight"
   ]
  },
  {
   "cell_type": "code",
   "execution_count": 8,
   "id": "f6b3fe5d",
   "metadata": {},
   "outputs": [
    {
     "data": {
      "text/plain": [
       "count    720.000000\n",
       "mean     123.833333\n",
       "std       56.759258\n",
       "min       91.000000\n",
       "25%       93.000000\n",
       "50%      100.000000\n",
       "75%      109.000000\n",
       "max      250.000000\n",
       "Name: WEIGHT, KG PER BAG, dtype: float64"
      ]
     },
     "execution_count": 8,
     "metadata": {},
     "output_type": "execute_result"
    }
   ],
   "source": [
    "commodities['WEIGHT, KG PER BAG'].describe()"
   ]
  },
  {
   "cell_type": "code",
   "execution_count": 10,
   "id": "87292fd1",
   "metadata": {
    "scrolled": true
   },
   "outputs": [
    {
     "data": {
      "image/png": "[encoded data removed]",
      "text/plain": [
       "<Figure size 504x360 with 1 Axes>"
      ]
     },
     "metadata": {
      "needs_background": "light"
     },
     "output_type": "display_data"
    }
   ],
   "source": [
    "plt.figure(figsize = (7,5))\n",
    "plt.hist(commodities['WEIGHT, KG PER BAG'])\n",
    "plt.title('Distribution of Weight', fontsize = 12)\n",
    "plt.xlabel('Wholesale Commodities', fontsize = 12)\n",
    "plt.ylabel('Weight of Wholesale Commodities in Kg', fontsize = 12)\n",
    "plt.show()"
   ]
  },
  {
   "cell_type": "markdown",
   "id": "64ccdecf",
   "metadata": {},
   "source": [
    "From the distribution, 50% of the commodities weighed 100kg. The remaining 50% of the commodities are weighing between 100kg and 250kg. THis means that the commodities that weighed above 100kg were not much. We can confidently say that the crop yield was poor or production was less."
   ]
  },
  {
   "cell_type": "markdown",
   "id": "711737ef",
   "metadata": {},
   "source": [
    "## Multivariate Analysis"
   ]
  },
  {
   "cell_type": "code",
   "execution_count": 25,
   "id": "2d477ad9",
   "metadata": {
    "scrolled": true
   },
   "outputs": [
    {
     "data": {
      "text/html": [
       "<div>\n",
       "<style scoped>\n",
       "    .dataframe tbody tr th:only-of-type {\n",
       "        vertical-align: middle;\n",
       "    }\n",
       "\n",
       "    .dataframe tbody tr th {\n",
       "        vertical-align: top;\n",
       "    }\n",
       "\n",
       "    .dataframe thead th {\n",
       "        text-align: right;\n",
       "    }\n",
       "</style>\n",
       "<table border=\"1\" class=\"dataframe\">\n",
       "  <thead>\n",
       "    <tr style=\"text-align: right;\">\n",
       "      <th></th>\n",
       "      <th>COMMODITY</th>\n",
       "      <th>PRICE, ¢ GH</th>\n",
       "    </tr>\n",
       "    <tr>\n",
       "      <th>YEAR</th>\n",
       "      <th></th>\n",
       "      <th></th>\n",
       "    </tr>\n",
       "  </thead>\n",
       "  <tbody>\n",
       "    <tr>\n",
       "      <th>2008</th>\n",
       "      <td>YAM</td>\n",
       "      <td>689.87</td>\n",
       "    </tr>\n",
       "    <tr>\n",
       "      <th>2009</th>\n",
       "      <td>YAM</td>\n",
       "      <td>920.55</td>\n",
       "    </tr>\n",
       "    <tr>\n",
       "      <th>2010</th>\n",
       "      <td>YAM</td>\n",
       "      <td>884.20</td>\n",
       "    </tr>\n",
       "    <tr>\n",
       "      <th>2011</th>\n",
       "      <td>YAM</td>\n",
       "      <td>202.10</td>\n",
       "    </tr>\n",
       "    <tr>\n",
       "      <th>2012</th>\n",
       "      <td>YAM</td>\n",
       "      <td>280.46</td>\n",
       "    </tr>\n",
       "    <tr>\n",
       "      <th>2013</th>\n",
       "      <td>YAM</td>\n",
       "      <td>297.40</td>\n",
       "    </tr>\n",
       "    <tr>\n",
       "      <th>2014</th>\n",
       "      <td>YAM</td>\n",
       "      <td>344.45</td>\n",
       "    </tr>\n",
       "    <tr>\n",
       "      <th>2015</th>\n",
       "      <td>YAM</td>\n",
       "      <td>378.35</td>\n",
       "    </tr>\n",
       "    <tr>\n",
       "      <th>2016</th>\n",
       "      <td>YAM</td>\n",
       "      <td>524.89</td>\n",
       "    </tr>\n",
       "    <tr>\n",
       "      <th>2017</th>\n",
       "      <td>YAM</td>\n",
       "      <td>637.65</td>\n",
       "    </tr>\n",
       "  </tbody>\n",
       "</table>\n",
       "</div>"
      ],
      "text/plain": [
       "     COMMODITY   PRICE, ¢ GH\n",
       "YEAR                        \n",
       "2008       YAM        689.87\n",
       "2009       YAM        920.55\n",
       "2010       YAM        884.20\n",
       "2011       YAM        202.10\n",
       "2012       YAM        280.46\n",
       "2013       YAM        297.40\n",
       "2014       YAM        344.45\n",
       "2015       YAM        378.35\n",
       "2016       YAM        524.89\n",
       "2017       YAM        637.65"
      ]
     },
     "execution_count": 25,
     "metadata": {},
     "output_type": "execute_result"
    }
   ],
   "source": [
    "#checking the commodity with the maximum price\n",
    "commodities.groupby(['YEAR'])[['COMMODITY',' PRICE, ¢ GH']].max()"
   ]
  },
  {
   "cell_type": "code",
   "execution_count": 26,
   "id": "a70b967c",
   "metadata": {},
   "outputs": [
    {
     "data": {
      "text/html": [
       "<div>\n",
       "<style scoped>\n",
       "    .dataframe tbody tr th:only-of-type {\n",
       "        vertical-align: middle;\n",
       "    }\n",
       "\n",
       "    .dataframe tbody tr th {\n",
       "        vertical-align: top;\n",
       "    }\n",
       "\n",
       "    .dataframe thead th {\n",
       "        text-align: right;\n",
       "    }\n",
       "</style>\n",
       "<table border=\"1\" class=\"dataframe\">\n",
       "  <thead>\n",
       "    <tr style=\"text-align: right;\">\n",
       "      <th></th>\n",
       "      <th>COMMODITY</th>\n",
       "      <th>PRICE, ¢ GH</th>\n",
       "    </tr>\n",
       "    <tr>\n",
       "      <th>YEAR</th>\n",
       "      <th></th>\n",
       "      <th></th>\n",
       "    </tr>\n",
       "  </thead>\n",
       "  <tbody>\n",
       "    <tr>\n",
       "      <th>2008</th>\n",
       "      <td>COCOYAM</td>\n",
       "      <td>0.131</td>\n",
       "    </tr>\n",
       "    <tr>\n",
       "      <th>2009</th>\n",
       "      <td>COCOYAM</td>\n",
       "      <td>3.317</td>\n",
       "    </tr>\n",
       "    <tr>\n",
       "      <th>2010</th>\n",
       "      <td>COCOYAM</td>\n",
       "      <td>4.382</td>\n",
       "    </tr>\n",
       "    <tr>\n",
       "      <th>2011</th>\n",
       "      <td>COCOYAM</td>\n",
       "      <td>0.007</td>\n",
       "    </tr>\n",
       "    <tr>\n",
       "      <th>2012</th>\n",
       "      <td>COCOYAM</td>\n",
       "      <td>0.010</td>\n",
       "    </tr>\n",
       "    <tr>\n",
       "      <th>2013</th>\n",
       "      <td>COCOYAM</td>\n",
       "      <td>0.008</td>\n",
       "    </tr>\n",
       "    <tr>\n",
       "      <th>2014</th>\n",
       "      <td>COCOYAM</td>\n",
       "      <td>0.010</td>\n",
       "    </tr>\n",
       "    <tr>\n",
       "      <th>2015</th>\n",
       "      <td>COCOYAM</td>\n",
       "      <td>0.010</td>\n",
       "    </tr>\n",
       "    <tr>\n",
       "      <th>2016</th>\n",
       "      <td>COCOYAM</td>\n",
       "      <td>0.010</td>\n",
       "    </tr>\n",
       "    <tr>\n",
       "      <th>2017</th>\n",
       "      <td>COCOYAM</td>\n",
       "      <td>0.020</td>\n",
       "    </tr>\n",
       "  </tbody>\n",
       "</table>\n",
       "</div>"
      ],
      "text/plain": [
       "     COMMODITY   PRICE, ¢ GH\n",
       "YEAR                        \n",
       "2008   COCOYAM         0.131\n",
       "2009   COCOYAM         3.317\n",
       "2010   COCOYAM         4.382\n",
       "2011   COCOYAM         0.007\n",
       "2012   COCOYAM         0.010\n",
       "2013   COCOYAM         0.008\n",
       "2014   COCOYAM         0.010\n",
       "2015   COCOYAM         0.010\n",
       "2016   COCOYAM         0.010\n",
       "2017   COCOYAM         0.020"
      ]
     },
     "execution_count": 26,
     "metadata": {},
     "output_type": "execute_result"
    }
   ],
   "source": [
    "#checking the commodity with the minimum price\n",
    "commodities.groupby(['YEAR'])[['COMMODITY',' PRICE, ¢ GH']].min()"
   ]
  },
  {
   "cell_type": "markdown",
   "id": "a743d033",
   "metadata": {},
   "source": [
    "### Table Chart"
   ]
  },
  {
   "cell_type": "code",
   "execution_count": 11,
   "id": "63b5cf8e",
   "metadata": {},
   "outputs": [
    {
     "data": {
      "text/html": [
       "<div>\n",
       "<style scoped>\n",
       "    .dataframe tbody tr th:only-of-type {\n",
       "        vertical-align: middle;\n",
       "    }\n",
       "\n",
       "    .dataframe tbody tr th {\n",
       "        vertical-align: top;\n",
       "    }\n",
       "\n",
       "    .dataframe thead th {\n",
       "        text-align: right;\n",
       "    }\n",
       "</style>\n",
       "<table border=\"1\" class=\"dataframe\">\n",
       "  <thead>\n",
       "    <tr style=\"text-align: right;\">\n",
       "      <th></th>\n",
       "      <th>YEAR</th>\n",
       "      <th>MONTH</th>\n",
       "      <th>COMMODITY</th>\n",
       "      <th>WEIGHT, KG PER BAG</th>\n",
       "      <th>PRICE, ¢ GH</th>\n",
       "    </tr>\n",
       "  </thead>\n",
       "  <tbody>\n",
       "    <tr>\n",
       "      <th>635</th>\n",
       "      <td>2010</td>\n",
       "      <td>DECEMBER</td>\n",
       "      <td>COCOYAM</td>\n",
       "      <td>91</td>\n",
       "      <td>57.57</td>\n",
       "    </tr>\n",
       "    <tr>\n",
       "      <th>634</th>\n",
       "      <td>2010</td>\n",
       "      <td>NOVEMBER</td>\n",
       "      <td>COCOYAM</td>\n",
       "      <td>91</td>\n",
       "      <td>48.41</td>\n",
       "    </tr>\n",
       "    <tr>\n",
       "      <th>633</th>\n",
       "      <td>2010</td>\n",
       "      <td>OCTOBER</td>\n",
       "      <td>COCOYAM</td>\n",
       "      <td>91</td>\n",
       "      <td>48.51</td>\n",
       "    </tr>\n",
       "    <tr>\n",
       "      <th>632</th>\n",
       "      <td>2010</td>\n",
       "      <td>SEPTEMBER</td>\n",
       "      <td>COCOYAM</td>\n",
       "      <td>91</td>\n",
       "      <td>46.99</td>\n",
       "    </tr>\n",
       "    <tr>\n",
       "      <th>719</th>\n",
       "      <td>2017</td>\n",
       "      <td>DECEMBER</td>\n",
       "      <td>COCOYAM</td>\n",
       "      <td>91</td>\n",
       "      <td>195.17</td>\n",
       "    </tr>\n",
       "  </tbody>\n",
       "</table>\n",
       "</div>"
      ],
      "text/plain": [
       "     YEAR      MONTH COMMODITY  WEIGHT, KG PER BAG   PRICE, ¢ GH\n",
       "635  2010   DECEMBER   COCOYAM                  91         57.57\n",
       "634  2010   NOVEMBER   COCOYAM                  91         48.41\n",
       "633  2010    OCTOBER   COCOYAM                  91         48.51\n",
       "632  2010  SEPTEMBER   COCOYAM                  91         46.99\n",
       "719  2017   DECEMBER   COCOYAM                  91        195.17"
      ]
     },
     "execution_count": 11,
     "metadata": {},
     "output_type": "execute_result"
    }
   ],
   "source": [
    "commodities.sort_values(by = 'WEIGHT, KG PER BAG', ascending = False).tail()"
   ]
  },
  {
   "cell_type": "markdown",
   "id": "594cc439",
   "metadata": {},
   "source": [
    "This is showing the last five commodities with the highest weight"
   ]
  },
  {
   "cell_type": "code",
   "execution_count": 12,
   "id": "73f1c31b",
   "metadata": {},
   "outputs": [
    {
     "data": {
      "text/html": [
       "<div>\n",
       "<style scoped>\n",
       "    .dataframe tbody tr th:only-of-type {\n",
       "        vertical-align: middle;\n",
       "    }\n",
       "\n",
       "    .dataframe tbody tr th {\n",
       "        vertical-align: top;\n",
       "    }\n",
       "\n",
       "    .dataframe thead th {\n",
       "        text-align: right;\n",
       "    }\n",
       "</style>\n",
       "<table border=\"1\" class=\"dataframe\">\n",
       "  <thead>\n",
       "    <tr style=\"text-align: right;\">\n",
       "      <th></th>\n",
       "      <th>YEAR</th>\n",
       "      <th>MONTH</th>\n",
       "      <th>COMMODITY</th>\n",
       "      <th>WEIGHT, KG PER BAG</th>\n",
       "      <th>PRICE, ¢ GH</th>\n",
       "    </tr>\n",
       "  </thead>\n",
       "  <tbody>\n",
       "    <tr>\n",
       "      <th>377</th>\n",
       "      <td>2009</td>\n",
       "      <td>JUNE</td>\n",
       "      <td>SORGHUM</td>\n",
       "      <td>109</td>\n",
       "      <td>920.55</td>\n",
       "    </tr>\n",
       "    <tr>\n",
       "      <th>378</th>\n",
       "      <td>2009</td>\n",
       "      <td>JULY</td>\n",
       "      <td>SORGHUM</td>\n",
       "      <td>109</td>\n",
       "      <td>900.79</td>\n",
       "    </tr>\n",
       "    <tr>\n",
       "      <th>389</th>\n",
       "      <td>2010</td>\n",
       "      <td>JUNE</td>\n",
       "      <td>SORGHUM</td>\n",
       "      <td>109</td>\n",
       "      <td>884.20</td>\n",
       "    </tr>\n",
       "    <tr>\n",
       "      <th>390</th>\n",
       "      <td>2010</td>\n",
       "      <td>JULY</td>\n",
       "      <td>SORGHUM</td>\n",
       "      <td>109</td>\n",
       "      <td>884.15</td>\n",
       "    </tr>\n",
       "    <tr>\n",
       "      <th>388</th>\n",
       "      <td>2010</td>\n",
       "      <td>MAY</td>\n",
       "      <td>SORGHUM</td>\n",
       "      <td>109</td>\n",
       "      <td>807.45</td>\n",
       "    </tr>\n",
       "  </tbody>\n",
       "</table>\n",
       "</div>"
      ],
      "text/plain": [
       "     YEAR MONTH COMMODITY  WEIGHT, KG PER BAG   PRICE, ¢ GH\n",
       "377  2009  JUNE   SORGHUM                 109        920.55\n",
       "378  2009  JULY   SORGHUM                 109        900.79\n",
       "389  2010  JUNE   SORGHUM                 109        884.20\n",
       "390  2010  JULY   SORGHUM                 109        884.15\n",
       "388  2010   MAY   SORGHUM                 109        807.45"
      ]
     },
     "execution_count": 12,
     "metadata": {},
     "output_type": "execute_result"
    }
   ],
   "source": [
    "commodities.sort_values(by = ' PRICE, ¢ GH', ascending = False).head()"
   ]
  },
  {
   "cell_type": "markdown",
   "id": "d1ba6d6c",
   "metadata": {},
   "source": [
    "This is showing the first five commodities with the highest price"
   ]
  },
  {
   "cell_type": "markdown",
   "id": "2248e4d6",
   "metadata": {},
   "source": [
    "### Pie Chart"
   ]
  },
  {
   "cell_type": "code",
   "execution_count": 13,
   "id": "469636e2",
   "metadata": {},
   "outputs": [
    {
     "data": {
      "text/plain": [
       "COMMODITY\n",
       "COCOYAM       12249.5800\n",
       "LOCAL RICE     9775.0231\n",
       "MAIZE          5660.5251\n",
       "MILLET         1372.0730\n",
       "SORGHUM       22703.6540\n",
       "YAM           30306.2500\n",
       "Name:  PRICE, ¢ GH, dtype: float64"
      ]
     },
     "execution_count": 13,
     "metadata": {},
     "output_type": "execute_result"
    }
   ],
   "source": [
    "commodities.groupby('COMMODITY')[' PRICE, ¢ GH'].sum()"
   ]
  },
  {
   "cell_type": "code",
   "execution_count": 23,
   "id": "7c5f8a5d",
   "metadata": {},
   "outputs": [
    {
     "data": {
      "image/png": "[encoded data removed]",
      "text/plain": [
       "<Figure size 864x1080 with 1 Axes>"
      ]
     },
     "metadata": {},
     "output_type": "display_data"
    }
   ],
   "source": [
    "commodities.groupby('COMMODITY')[' PRICE, ¢ GH'].sum().plot(kind = 'pie', figsize = (12,15), fontsize = 8, autopct = '%1.1f%%')\n",
    "plt.show()"
   ]
  },
  {
   "cell_type": "markdown",
   "id": "d5183456",
   "metadata": {},
   "source": [
    "This is showing the various commodities against their total price. The chart shows that Yam has the higest in terms of price followed by Sorghum and Millet had the least price."
   ]
  },
  {
   "cell_type": "code",
   "execution_count": 16,
   "id": "bcc34e3c",
   "metadata": {},
   "outputs": [
    {
     "data": {
      "text/html": [
       "<div>\n",
       "<style scoped>\n",
       "    .dataframe tbody tr th:only-of-type {\n",
       "        vertical-align: middle;\n",
       "    }\n",
       "\n",
       "    .dataframe tbody tr th {\n",
       "        vertical-align: top;\n",
       "    }\n",
       "\n",
       "    .dataframe thead th {\n",
       "        text-align: right;\n",
       "    }\n",
       "</style>\n",
       "<table border=\"1\" class=\"dataframe\">\n",
       "  <thead>\n",
       "    <tr style=\"text-align: right;\">\n",
       "      <th></th>\n",
       "      <th>YEAR</th>\n",
       "      <th>WEIGHT, KG PER BAG</th>\n",
       "      <th>PRICE, ¢ GH</th>\n",
       "    </tr>\n",
       "  </thead>\n",
       "  <tbody>\n",
       "    <tr>\n",
       "      <th>YEAR</th>\n",
       "      <td>1.000000e+00</td>\n",
       "      <td>1.103780e-13</td>\n",
       "      <td>0.053873</td>\n",
       "    </tr>\n",
       "    <tr>\n",
       "      <th>WEIGHT, KG PER BAG</th>\n",
       "      <td>1.103780e-13</td>\n",
       "      <td>1.000000e+00</td>\n",
       "      <td>0.404250</td>\n",
       "    </tr>\n",
       "    <tr>\n",
       "      <th>PRICE, ¢ GH</th>\n",
       "      <td>5.387296e-02</td>\n",
       "      <td>4.042497e-01</td>\n",
       "      <td>1.000000</td>\n",
       "    </tr>\n",
       "  </tbody>\n",
       "</table>\n",
       "</div>"
      ],
      "text/plain": [
       "                            YEAR  WEIGHT, KG PER BAG   PRICE, ¢ GH\n",
       "YEAR                1.000000e+00        1.103780e-13      0.053873\n",
       "WEIGHT, KG PER BAG  1.103780e-13        1.000000e+00      0.404250\n",
       " PRICE, ¢ GH        5.387296e-02        4.042497e-01      1.000000"
      ]
     },
     "execution_count": 16,
     "metadata": {},
     "output_type": "execute_result"
    }
   ],
   "source": [
    "commodities.corr()"
   ]
  },
  {
   "cell_type": "markdown",
   "id": "7f24af5c",
   "metadata": {},
   "source": [
    "There is a fairly strong positive correlation between 'Weight' and 'Price' of the commodities"
   ]
  },
  {
   "cell_type": "markdown",
   "id": "e222c5b3",
   "metadata": {},
   "source": [
    "### Barchart"
   ]
  },
  {
   "cell_type": "code",
   "execution_count": 17,
   "id": "fc7fd2af",
   "metadata": {},
   "outputs": [
    {
     "data": {
      "image/png": "[encoded data removed]",
      "text/plain": [
       "<Figure size 576x360 with 1 Axes>"
      ]
     },
     "metadata": {
      "needs_background": "light"
     },
     "output_type": "display_data"
    }
   ],
   "source": [
    "plt.figure(figsize = (8,5))\n",
    "plt.bar(commodities['COMMODITY'], commodities[' PRICE, ¢ GH'])\n",
    "plt.title('Distribution of Price', fontsize = 12)\n",
    "plt.xlabel('Wholesale Commodities', fontsize = 12)\n",
    "plt.ylabel('Price of Wholesale Commodities in cedis', fontsize = 12)\n",
    "plt.show()"
   ]
  },
  {
   "cell_type": "markdown",
   "id": "b67d9c1e",
   "metadata": {},
   "source": [
    "From the distribution, Sorghum has the highest wholesale price followed by Yam. Millet has the lowest wholesale price."
   ]
  }
 ],
 "metadata": {
  "kernelspec": {
   "display_name": "Python 3 (ipykernel)",
   "language": "python",
   "name": "python3"
  },
  "language_info": {
   "codemirror_mode": {
    "name": "ipython",
    "version": 3
   },
   "file_extension": ".py",
   "mimetype": "text/x-python",
   "name": "python",
   "nbconvert_exporter": "python",
   "pygments_lexer": "ipython3",
   "version": "3.9.7"
  }
 },
 "nbformat": 4,
 "nbformat_minor": 5
}
