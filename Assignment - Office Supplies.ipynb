{
 "cells": [
  {
   "cell_type": "markdown",
   "id": "b0c08921",
   "metadata": {},
   "source": [
    "### Importing Libraries"
   ]
  },
  {
   "cell_type": "code",
   "execution_count": 1,
   "id": "7780062a",
   "metadata": {},
   "outputs": [],
   "source": [
    "import pandas as pd\n",
    "import numpy as np\n",
    "import matplotlib.pyplot as plt"
   ]
  },
  {
   "cell_type": "markdown",
   "id": "567895fb",
   "metadata": {},
   "source": [
    "### Importing Data"
   ]
  },
  {
   "cell_type": "code",
   "execution_count": 2,
   "id": "7cc4bbe4",
   "metadata": {},
   "outputs": [
    {
     "data": {
      "text/html": [
       "<div>\n",
       "<style scoped>\n",
       "    .dataframe tbody tr th:only-of-type {\n",
       "        vertical-align: middle;\n",
       "    }\n",
       "\n",
       "    .dataframe tbody tr th {\n",
       "        vertical-align: top;\n",
       "    }\n",
       "\n",
       "    .dataframe thead th {\n",
       "        text-align: right;\n",
       "    }\n",
       "</style>\n",
       "<table border=\"1\" class=\"dataframe\">\n",
       "  <thead>\n",
       "    <tr style=\"text-align: right;\">\n",
       "      <th></th>\n",
       "      <th>Order ID</th>\n",
       "      <th>Order Date</th>\n",
       "      <th>Ship Mode</th>\n",
       "      <th>Region</th>\n",
       "      <th>Product ID</th>\n",
       "      <th>Category</th>\n",
       "      <th>Sub-Category</th>\n",
       "      <th>Product Name</th>\n",
       "      <th>Sales</th>\n",
       "      <th>Quantity</th>\n",
       "      <th>Discount</th>\n",
       "      <th>Profit</th>\n",
       "    </tr>\n",
       "  </thead>\n",
       "  <tbody>\n",
       "    <tr>\n",
       "      <th>0</th>\n",
       "      <td>CA-2015-110870</td>\n",
       "      <td>12-12-15</td>\n",
       "      <td>First Class</td>\n",
       "      <td>West</td>\n",
       "      <td>TEC-AC-10002926</td>\n",
       "      <td>Technology</td>\n",
       "      <td>Accessories</td>\n",
       "      <td>Logitech Wireless Marathon Mouse M705</td>\n",
       "      <td>299.94</td>\n",
       "      <td>6</td>\n",
       "      <td>0.0</td>\n",
       "      <td>NaN</td>\n",
       "    </tr>\n",
       "    <tr>\n",
       "      <th>1</th>\n",
       "      <td>CA-2015-110870</td>\n",
       "      <td>12-12-15</td>\n",
       "      <td>First Class</td>\n",
       "      <td>West</td>\n",
       "      <td>OFF-SU-10001225</td>\n",
       "      <td>Office Supplies</td>\n",
       "      <td>Supplies</td>\n",
       "      <td>Staple remover</td>\n",
       "      <td>25.76</td>\n",
       "      <td>7</td>\n",
       "      <td>0.0</td>\n",
       "      <td>NaN</td>\n",
       "    </tr>\n",
       "    <tr>\n",
       "      <th>2</th>\n",
       "      <td>CA-2014-143210</td>\n",
       "      <td>01-12-14</td>\n",
       "      <td>First Class</td>\n",
       "      <td>East</td>\n",
       "      <td>TEC-PH-10004434</td>\n",
       "      <td>Technology</td>\n",
       "      <td>Phones</td>\n",
       "      <td>Cisco IP Phone 7961G VoIP phone - Dark gray</td>\n",
       "      <td>271.90</td>\n",
       "      <td>2</td>\n",
       "      <td>0.0</td>\n",
       "      <td>NaN</td>\n",
       "    </tr>\n",
       "    <tr>\n",
       "      <th>3</th>\n",
       "      <td>CA-2014-143210</td>\n",
       "      <td>01-12-14</td>\n",
       "      <td>First Class</td>\n",
       "      <td>East</td>\n",
       "      <td>FUR-FU-10003878</td>\n",
       "      <td>Furniture</td>\n",
       "      <td>Furnishings</td>\n",
       "      <td>Linden 10\" Round Wall Clock, Black</td>\n",
       "      <td>45.84</td>\n",
       "      <td>3</td>\n",
       "      <td>0.0</td>\n",
       "      <td>NaN</td>\n",
       "    </tr>\n",
       "    <tr>\n",
       "      <th>4</th>\n",
       "      <td>CA-2014-143210</td>\n",
       "      <td>01-12-14</td>\n",
       "      <td>First Class</td>\n",
       "      <td>East</td>\n",
       "      <td>FUR-FU-10002268</td>\n",
       "      <td>Furniture</td>\n",
       "      <td>Furnishings</td>\n",
       "      <td>Ultra Door Push Plate</td>\n",
       "      <td>9.82</td>\n",
       "      <td>2</td>\n",
       "      <td>0.0</td>\n",
       "      <td>NaN</td>\n",
       "    </tr>\n",
       "  </tbody>\n",
       "</table>\n",
       "</div>"
      ],
      "text/plain": [
       "         Order ID Order Date    Ship Mode Region       Product ID  \\\n",
       "0  CA-2015-110870   12-12-15  First Class   West  TEC-AC-10002926   \n",
       "1  CA-2015-110870   12-12-15  First Class   West  OFF-SU-10001225   \n",
       "2  CA-2014-143210   01-12-14  First Class   East  TEC-PH-10004434   \n",
       "3  CA-2014-143210   01-12-14  First Class   East  FUR-FU-10003878   \n",
       "4  CA-2014-143210   01-12-14  First Class   East  FUR-FU-10002268   \n",
       "\n",
       "          Category Sub-Category                                 Product Name  \\\n",
       "0       Technology  Accessories        Logitech Wireless Marathon Mouse M705   \n",
       "1  Office Supplies     Supplies                               Staple remover   \n",
       "2       Technology       Phones  Cisco IP Phone 7961G VoIP phone - Dark gray   \n",
       "3        Furniture  Furnishings           Linden 10\" Round Wall Clock, Black   \n",
       "4        Furniture  Furnishings                        Ultra Door Push Plate   \n",
       "\n",
       "    Sales  Quantity  Discount  Profit  \n",
       "0  299.94         6       0.0     NaN  \n",
       "1   25.76         7       0.0     NaN  \n",
       "2  271.90         2       0.0     NaN  \n",
       "3   45.84         3       0.0     NaN  \n",
       "4    9.82         2       0.0     NaN  "
      ]
     },
     "execution_count": 2,
     "metadata": {},
     "output_type": "execute_result"
    }
   ],
   "source": [
    "supplies = pd.read_csv('office_supplies.csv')\n",
    "supplies.head()"
   ]
  },
  {
   "cell_type": "markdown",
   "id": "73b0f5d7",
   "metadata": {},
   "source": [
    "### Basic Manipulations"
   ]
  },
  {
   "cell_type": "code",
   "execution_count": 3,
   "id": "5fddfd69",
   "metadata": {},
   "outputs": [
    {
     "name": "stdout",
     "output_type": "stream",
     "text": [
      "<class 'pandas.core.frame.DataFrame'>\n",
      "RangeIndex: 9993 entries, 0 to 9992\n",
      "Data columns (total 12 columns):\n",
      " #   Column        Non-Null Count  Dtype  \n",
      "---  ------        --------------  -----  \n",
      " 0   Order ID      9993 non-null   object \n",
      " 1   Order Date    9993 non-null   object \n",
      " 2   Ship Mode     9993 non-null   object \n",
      " 3   Region        9993 non-null   object \n",
      " 4   Product ID    9993 non-null   object \n",
      " 5   Category      9993 non-null   object \n",
      " 6   Sub-Category  9993 non-null   object \n",
      " 7   Product Name  9993 non-null   object \n",
      " 8   Sales         9993 non-null   float64\n",
      " 9   Quantity      9993 non-null   int64  \n",
      " 10  Discount      9993 non-null   float64\n",
      " 11  Profit        8000 non-null   float64\n",
      "dtypes: float64(3), int64(1), object(8)\n",
      "memory usage: 937.0+ KB\n"
     ]
    }
   ],
   "source": [
    "###info about the data\n",
    "supplies.info()"
   ]
  },
  {
   "cell_type": "code",
   "execution_count": 4,
   "id": "07d6e5f4",
   "metadata": {},
   "outputs": [
    {
     "data": {
      "text/plain": [
       "array([     nan,  41.9136, 219.582 , ...,  20.9148,   3.8976,  19.0344])"
      ]
     },
     "execution_count": 4,
     "metadata": {},
     "output_type": "execute_result"
    }
   ],
   "source": [
    "#checking for missing values in profit column\n",
    "supplies.Profit.unique()"
   ]
  },
  {
   "cell_type": "code",
   "execution_count": 5,
   "id": "d33ee00f",
   "metadata": {},
   "outputs": [
    {
     "data": {
      "text/html": [
       "<div>\n",
       "<style scoped>\n",
       "    .dataframe tbody tr th:only-of-type {\n",
       "        vertical-align: middle;\n",
       "    }\n",
       "\n",
       "    .dataframe tbody tr th {\n",
       "        vertical-align: top;\n",
       "    }\n",
       "\n",
       "    .dataframe thead th {\n",
       "        text-align: right;\n",
       "    }\n",
       "</style>\n",
       "<table border=\"1\" class=\"dataframe\">\n",
       "  <thead>\n",
       "    <tr style=\"text-align: right;\">\n",
       "      <th></th>\n",
       "      <th>Order ID</th>\n",
       "      <th>Order Date</th>\n",
       "      <th>Ship Mode</th>\n",
       "      <th>Region</th>\n",
       "      <th>Product ID</th>\n",
       "      <th>Category</th>\n",
       "      <th>Sub-Category</th>\n",
       "      <th>Product Name</th>\n",
       "      <th>Sales</th>\n",
       "      <th>Quantity</th>\n",
       "      <th>Discount</th>\n",
       "      <th>Profit</th>\n",
       "    </tr>\n",
       "  </thead>\n",
       "  <tbody>\n",
       "    <tr>\n",
       "      <th>0</th>\n",
       "      <td>CA-2015-110870</td>\n",
       "      <td>12-12-15</td>\n",
       "      <td>First Class</td>\n",
       "      <td>West</td>\n",
       "      <td>TEC-AC-10002926</td>\n",
       "      <td>Technology</td>\n",
       "      <td>Accessories</td>\n",
       "      <td>Logitech Wireless Marathon Mouse M705</td>\n",
       "      <td>299.940</td>\n",
       "      <td>6</td>\n",
       "      <td>0.0</td>\n",
       "      <td>0.0000</td>\n",
       "    </tr>\n",
       "    <tr>\n",
       "      <th>1</th>\n",
       "      <td>CA-2015-110870</td>\n",
       "      <td>12-12-15</td>\n",
       "      <td>First Class</td>\n",
       "      <td>West</td>\n",
       "      <td>OFF-SU-10001225</td>\n",
       "      <td>Office Supplies</td>\n",
       "      <td>Supplies</td>\n",
       "      <td>Staple remover</td>\n",
       "      <td>25.760</td>\n",
       "      <td>7</td>\n",
       "      <td>0.0</td>\n",
       "      <td>0.0000</td>\n",
       "    </tr>\n",
       "    <tr>\n",
       "      <th>2</th>\n",
       "      <td>CA-2014-143210</td>\n",
       "      <td>01-12-14</td>\n",
       "      <td>First Class</td>\n",
       "      <td>East</td>\n",
       "      <td>TEC-PH-10004434</td>\n",
       "      <td>Technology</td>\n",
       "      <td>Phones</td>\n",
       "      <td>Cisco IP Phone 7961G VoIP phone - Dark gray</td>\n",
       "      <td>271.900</td>\n",
       "      <td>2</td>\n",
       "      <td>0.0</td>\n",
       "      <td>0.0000</td>\n",
       "    </tr>\n",
       "    <tr>\n",
       "      <th>3</th>\n",
       "      <td>CA-2014-143210</td>\n",
       "      <td>01-12-14</td>\n",
       "      <td>First Class</td>\n",
       "      <td>East</td>\n",
       "      <td>FUR-FU-10003878</td>\n",
       "      <td>Furniture</td>\n",
       "      <td>Furnishings</td>\n",
       "      <td>Linden 10\" Round Wall Clock, Black</td>\n",
       "      <td>45.840</td>\n",
       "      <td>3</td>\n",
       "      <td>0.0</td>\n",
       "      <td>0.0000</td>\n",
       "    </tr>\n",
       "    <tr>\n",
       "      <th>4</th>\n",
       "      <td>CA-2014-143210</td>\n",
       "      <td>01-12-14</td>\n",
       "      <td>First Class</td>\n",
       "      <td>East</td>\n",
       "      <td>FUR-FU-10002268</td>\n",
       "      <td>Furniture</td>\n",
       "      <td>Furnishings</td>\n",
       "      <td>Ultra Door Push Plate</td>\n",
       "      <td>9.820</td>\n",
       "      <td>2</td>\n",
       "      <td>0.0</td>\n",
       "      <td>0.0000</td>\n",
       "    </tr>\n",
       "    <tr>\n",
       "      <th>...</th>\n",
       "      <td>...</td>\n",
       "      <td>...</td>\n",
       "      <td>...</td>\n",
       "      <td>...</td>\n",
       "      <td>...</td>\n",
       "      <td>...</td>\n",
       "      <td>...</td>\n",
       "      <td>...</td>\n",
       "      <td>...</td>\n",
       "      <td>...</td>\n",
       "      <td>...</td>\n",
       "      <td>...</td>\n",
       "    </tr>\n",
       "    <tr>\n",
       "      <th>9988</th>\n",
       "      <td>US-2015-165743</td>\n",
       "      <td>20-11-15</td>\n",
       "      <td>Second Class</td>\n",
       "      <td>West</td>\n",
       "      <td>OFF-BI-10001758</td>\n",
       "      <td>Office Supplies</td>\n",
       "      <td>Binders</td>\n",
       "      <td>Wilson Jones 14 Line Acrylic Coated Pressboard...</td>\n",
       "      <td>9.612</td>\n",
       "      <td>6</td>\n",
       "      <td>0.7</td>\n",
       "      <td>-7.3692</td>\n",
       "    </tr>\n",
       "    <tr>\n",
       "      <th>9989</th>\n",
       "      <td>US-2017-105998</td>\n",
       "      <td>03-11-17</td>\n",
       "      <td>First Class</td>\n",
       "      <td>West</td>\n",
       "      <td>TEC-AC-10004469</td>\n",
       "      <td>Technology</td>\n",
       "      <td>Accessories</td>\n",
       "      <td>Microsoft Sculpt Comfort Mouse</td>\n",
       "      <td>199.750</td>\n",
       "      <td>5</td>\n",
       "      <td>0.0</td>\n",
       "      <td>87.8900</td>\n",
       "    </tr>\n",
       "    <tr>\n",
       "      <th>9990</th>\n",
       "      <td>US-2017-105998</td>\n",
       "      <td>03-11-17</td>\n",
       "      <td>First Class</td>\n",
       "      <td>West</td>\n",
       "      <td>FUR-TA-10001095</td>\n",
       "      <td>Furniture</td>\n",
       "      <td>Tables</td>\n",
       "      <td>Chromcraft Round Conference Tables</td>\n",
       "      <td>1673.184</td>\n",
       "      <td>12</td>\n",
       "      <td>0.2</td>\n",
       "      <td>20.9148</td>\n",
       "    </tr>\n",
       "    <tr>\n",
       "      <th>9991</th>\n",
       "      <td>US-2014-148194</td>\n",
       "      <td>04-05-14</td>\n",
       "      <td>First Class</td>\n",
       "      <td>West</td>\n",
       "      <td>FUR-FU-10001852</td>\n",
       "      <td>Furniture</td>\n",
       "      <td>Furnishings</td>\n",
       "      <td>Eldon Regeneration Recycled Desk Accessories, ...</td>\n",
       "      <td>12.180</td>\n",
       "      <td>7</td>\n",
       "      <td>0.0</td>\n",
       "      <td>3.8976</td>\n",
       "    </tr>\n",
       "    <tr>\n",
       "      <th>9992</th>\n",
       "      <td>US-2014-148194</td>\n",
       "      <td>04-05-14</td>\n",
       "      <td>First Class</td>\n",
       "      <td>West</td>\n",
       "      <td>OFF-AP-10000696</td>\n",
       "      <td>Office Supplies</td>\n",
       "      <td>Appliances</td>\n",
       "      <td>Holmes Odor Grabber</td>\n",
       "      <td>57.680</td>\n",
       "      <td>4</td>\n",
       "      <td>0.0</td>\n",
       "      <td>19.0344</td>\n",
       "    </tr>\n",
       "  </tbody>\n",
       "</table>\n",
       "<p>9993 rows × 12 columns</p>\n",
       "</div>"
      ],
      "text/plain": [
       "            Order ID Order Date     Ship Mode Region       Product ID  \\\n",
       "0     CA-2015-110870   12-12-15   First Class   West  TEC-AC-10002926   \n",
       "1     CA-2015-110870   12-12-15   First Class   West  OFF-SU-10001225   \n",
       "2     CA-2014-143210   01-12-14   First Class   East  TEC-PH-10004434   \n",
       "3     CA-2014-143210   01-12-14   First Class   East  FUR-FU-10003878   \n",
       "4     CA-2014-143210   01-12-14   First Class   East  FUR-FU-10002268   \n",
       "...              ...        ...           ...    ...              ...   \n",
       "9988  US-2015-165743   20-11-15  Second Class   West  OFF-BI-10001758   \n",
       "9989  US-2017-105998   03-11-17   First Class   West  TEC-AC-10004469   \n",
       "9990  US-2017-105998   03-11-17   First Class   West  FUR-TA-10001095   \n",
       "9991  US-2014-148194   04-05-14   First Class   West  FUR-FU-10001852   \n",
       "9992  US-2014-148194   04-05-14   First Class   West  OFF-AP-10000696   \n",
       "\n",
       "             Category Sub-Category  \\\n",
       "0          Technology  Accessories   \n",
       "1     Office Supplies     Supplies   \n",
       "2          Technology       Phones   \n",
       "3           Furniture  Furnishings   \n",
       "4           Furniture  Furnishings   \n",
       "...               ...          ...   \n",
       "9988  Office Supplies      Binders   \n",
       "9989       Technology  Accessories   \n",
       "9990        Furniture       Tables   \n",
       "9991        Furniture  Furnishings   \n",
       "9992  Office Supplies   Appliances   \n",
       "\n",
       "                                           Product Name     Sales  Quantity  \\\n",
       "0                 Logitech Wireless Marathon Mouse M705   299.940         6   \n",
       "1                                        Staple remover    25.760         7   \n",
       "2           Cisco IP Phone 7961G VoIP phone - Dark gray   271.900         2   \n",
       "3                    Linden 10\" Round Wall Clock, Black    45.840         3   \n",
       "4                                 Ultra Door Push Plate     9.820         2   \n",
       "...                                                 ...       ...       ...   \n",
       "9988  Wilson Jones 14 Line Acrylic Coated Pressboard...     9.612         6   \n",
       "9989                     Microsoft Sculpt Comfort Mouse   199.750         5   \n",
       "9990                 Chromcraft Round Conference Tables  1673.184        12   \n",
       "9991  Eldon Regeneration Recycled Desk Accessories, ...    12.180         7   \n",
       "9992                                Holmes Odor Grabber    57.680         4   \n",
       "\n",
       "      Discount   Profit  \n",
       "0          0.0   0.0000  \n",
       "1          0.0   0.0000  \n",
       "2          0.0   0.0000  \n",
       "3          0.0   0.0000  \n",
       "4          0.0   0.0000  \n",
       "...        ...      ...  \n",
       "9988       0.7  -7.3692  \n",
       "9989       0.0  87.8900  \n",
       "9990       0.2  20.9148  \n",
       "9991       0.0   3.8976  \n",
       "9992       0.0  19.0344  \n",
       "\n",
       "[9993 rows x 12 columns]"
      ]
     },
     "execution_count": 5,
     "metadata": {},
     "output_type": "execute_result"
    }
   ],
   "source": [
    "#replacing null values with 0\n",
    "supply = supplies.fillna(0)\n",
    "supply"
   ]
  },
  {
   "cell_type": "code",
   "execution_count": 6,
   "id": "524fa3a1",
   "metadata": {},
   "outputs": [
    {
     "data": {
      "text/plain": [
       "array([  0.    ,  41.9136, 219.582 , ...,  20.9148,   3.8976,  19.0344])"
      ]
     },
     "execution_count": 6,
     "metadata": {},
     "output_type": "execute_result"
    }
   ],
   "source": [
    "#checking the unique values in the profit column\n",
    "supply.Profit.unique()"
   ]
  },
  {
   "cell_type": "code",
   "execution_count": 7,
   "id": "7f24d98f",
   "metadata": {
    "scrolled": true
   },
   "outputs": [
    {
     "name": "stdout",
     "output_type": "stream",
     "text": [
      "<class 'pandas.core.frame.DataFrame'>\n",
      "RangeIndex: 9993 entries, 0 to 9992\n",
      "Data columns (total 12 columns):\n",
      " #   Column        Non-Null Count  Dtype  \n",
      "---  ------        --------------  -----  \n",
      " 0   Order ID      9993 non-null   object \n",
      " 1   Order Date    9993 non-null   object \n",
      " 2   Ship Mode     9993 non-null   object \n",
      " 3   Region        9993 non-null   object \n",
      " 4   Product ID    9993 non-null   object \n",
      " 5   Category      9993 non-null   object \n",
      " 6   Sub-Category  9993 non-null   object \n",
      " 7   Product Name  9993 non-null   object \n",
      " 8   Sales         9993 non-null   float64\n",
      " 9   Quantity      9993 non-null   int64  \n",
      " 10  Discount      9993 non-null   float64\n",
      " 11  Profit        9993 non-null   float64\n",
      "dtypes: float64(3), int64(1), object(8)\n",
      "memory usage: 937.0+ KB\n"
     ]
    }
   ],
   "source": [
    "# checking if null values have been replaced\n",
    "supply.info()"
   ]
  },
  {
   "cell_type": "markdown",
   "id": "f002b3dc",
   "metadata": {},
   "source": [
    "All the null values have been replaced "
   ]
  },
  {
   "cell_type": "code",
   "execution_count": 29,
   "id": "b8e9e32a",
   "metadata": {},
   "outputs": [
    {
     "data": {
      "text/plain": [
       "Index(['OrderID', 'OrderDate', 'ShipMode', 'Region', 'ProductID', 'Category',\n",
       "       'SubCategory', 'ProductName', 'Sales', 'Quantity', 'Discount',\n",
       "       'Profit'],\n",
       "      dtype='object')"
      ]
     },
     "execution_count": 29,
     "metadata": {},
     "output_type": "execute_result"
    }
   ],
   "source": [
    "# renaming the columns to remove the spaces and dashes in them\n",
    "supply.columns = ['OrderID', 'OrderDate', 'ShipMode', 'Region', 'ProductID',\n",
    "       'Category', 'SubCategory', 'ProductName', 'Sales', 'Quantity',\n",
    "       'Discount', 'Profit']\n",
    "supply.columns"
   ]
  },
  {
   "cell_type": "markdown",
   "id": "2b991273",
   "metadata": {},
   "source": [
    "### Univariate Analysis"
   ]
  },
  {
   "cell_type": "markdown",
   "id": "3ebad721",
   "metadata": {},
   "source": [
    "### Profit"
   ]
  },
  {
   "cell_type": "code",
   "execution_count": 9,
   "id": "2aee6ac1",
   "metadata": {},
   "outputs": [
    {
     "data": {
      "text/plain": [
       "count    9993.000000\n",
       "mean       22.523152\n",
       "std       203.708204\n",
       "min     -6599.978000\n",
       "25%         0.000000\n",
       "50%         4.884000\n",
       "75%        21.098000\n",
       "max      8399.976000\n",
       "Name: Profit, dtype: float64"
      ]
     },
     "execution_count": 9,
     "metadata": {},
     "output_type": "execute_result"
    }
   ],
   "source": [
    "supply.Profit.describe()"
   ]
  },
  {
   "cell_type": "code",
   "execution_count": 10,
   "id": "c0752231",
   "metadata": {},
   "outputs": [
    {
     "data": {
      "image/png": "[encoded data removed]",
      "text/plain": [
       "<Figure size 432x288 with 1 Axes>"
      ]
     },
     "metadata": {
      "needs_background": "light"
     },
     "output_type": "display_data"
    }
   ],
   "source": [
    "plt.hist(supply['Profit'], bins = 17)\n",
    "plt.title('Distribution of Profit', size = 12)\n",
    "plt.show()"
   ]
  },
  {
   "cell_type": "markdown",
   "id": "92803785",
   "metadata": {},
   "source": [
    "From the distribution, 50% of the Profi is 4.884 cedis. The remaining half of profit fell between 4.884 cedis nad 8399.976 cedis. This means less profit was generated between this higer figures. Therefore, we can confidently say that the company made less profit from the products sold."
   ]
  },
  {
   "cell_type": "markdown",
   "id": "aa8e8ffd",
   "metadata": {},
   "source": [
    "### Sales"
   ]
  },
  {
   "cell_type": "code",
   "execution_count": 11,
   "id": "cd77530a",
   "metadata": {},
   "outputs": [
    {
     "data": {
      "text/plain": [
       "count     9993.000000\n",
       "mean       229.854588\n",
       "std        623.276194\n",
       "min          0.444000\n",
       "25%         17.280000\n",
       "50%         54.480000\n",
       "75%        209.940000\n",
       "max      22638.480000\n",
       "Name: Sales, dtype: float64"
      ]
     },
     "execution_count": 11,
     "metadata": {},
     "output_type": "execute_result"
    }
   ],
   "source": [
    "supply.Sales.describe()"
   ]
  },
  {
   "cell_type": "code",
   "execution_count": 16,
   "id": "b91da1f5",
   "metadata": {},
   "outputs": [
    {
     "data": {
      "image/png": "[encoded data removed]",
      "text/plain": [
       "<Figure size 432x288 with 1 Axes>"
      ]
     },
     "metadata": {
      "needs_background": "light"
     },
     "output_type": "display_data"
    }
   ],
   "source": [
    "plt.hist(supply['Sales'], bins = 9)\n",
    "plt.title('Distribution of Sales', fontsize = 12)\n",
    "plt.show()"
   ]
  },
  {
   "cell_type": "markdown",
   "id": "71298165",
   "metadata": {},
   "source": [
    "From the distribution, 50% of the sales is 54.48 cedis. The remaining half of sales fell between 54.48 cedis and 22638.48 cedis. This means a lot of sales were made between this higer figures. Therefore, we can confidently say that the company generated higher revenue from the products sold."
   ]
  },
  {
   "cell_type": "markdown",
   "id": "b2c2ab43",
   "metadata": {},
   "source": [
    "### Multivariate"
   ]
  },
  {
   "cell_type": "code",
   "execution_count": 48,
   "id": "a7ef5afc",
   "metadata": {},
   "outputs": [
    {
     "data": {
      "text/plain": [
       "count     9993.000000\n",
       "mean       229.854588\n",
       "std        623.276194\n",
       "min          0.444000\n",
       "25%         17.280000\n",
       "50%         54.480000\n",
       "75%        209.940000\n",
       "max      22638.480000\n",
       "Name: Sales, dtype: float64"
      ]
     },
     "execution_count": 48,
     "metadata": {},
     "output_type": "execute_result"
    }
   ],
   "source": [
    "supply['Sales'].describe()"
   ]
  },
  {
   "cell_type": "code",
   "execution_count": 42,
   "id": "fe191261",
   "metadata": {},
   "outputs": [
    {
     "data": {
      "text/html": [
       "<div>\n",
       "<style scoped>\n",
       "    .dataframe tbody tr th:only-of-type {\n",
       "        vertical-align: middle;\n",
       "    }\n",
       "\n",
       "    .dataframe tbody tr th {\n",
       "        vertical-align: top;\n",
       "    }\n",
       "\n",
       "    .dataframe thead th {\n",
       "        text-align: right;\n",
       "    }\n",
       "</style>\n",
       "<table border=\"1\" class=\"dataframe\">\n",
       "  <thead>\n",
       "    <tr style=\"text-align: right;\">\n",
       "      <th></th>\n",
       "      <th>ProductName</th>\n",
       "      <th>Sales</th>\n",
       "    </tr>\n",
       "    <tr>\n",
       "      <th>Region</th>\n",
       "      <th></th>\n",
       "      <th></th>\n",
       "    </tr>\n",
       "  </thead>\n",
       "  <tbody>\n",
       "    <tr>\n",
       "      <th>Central</th>\n",
       "      <td>netTALK DUO VoIP Telephone Service</td>\n",
       "      <td>17499.950</td>\n",
       "    </tr>\n",
       "    <tr>\n",
       "      <th>East</th>\n",
       "      <td>netTALK DUO VoIP Telephone Service</td>\n",
       "      <td>11199.968</td>\n",
       "    </tr>\n",
       "    <tr>\n",
       "      <th>South</th>\n",
       "      <td>iOttie XL Car Mount</td>\n",
       "      <td>22638.480</td>\n",
       "    </tr>\n",
       "    <tr>\n",
       "      <th>West</th>\n",
       "      <td>netTALK DUO VoIP Telephone Service</td>\n",
       "      <td>13999.960</td>\n",
       "    </tr>\n",
       "  </tbody>\n",
       "</table>\n",
       "</div>"
      ],
      "text/plain": [
       "                                ProductName      Sales\n",
       "Region                                                \n",
       "Central  netTALK DUO VoIP Telephone Service  17499.950\n",
       "East     netTALK DUO VoIP Telephone Service  11199.968\n",
       "South                   iOttie XL Car Mount  22638.480\n",
       "West     netTALK DUO VoIP Telephone Service  13999.960"
      ]
     },
     "execution_count": 42,
     "metadata": {},
     "output_type": "execute_result"
    }
   ],
   "source": [
    "#finding the region with the most sold product\n",
    "supply.groupby(['Region'])[['ProductName', 'Sales']].max()"
   ]
  },
  {
   "cell_type": "markdown",
   "id": "c9fcf87f",
   "metadata": {},
   "source": [
    "**netTALK DUO VoIP Telephone Service** is the most sold product in **Central, East and West** whereas **iOttie XL Car Mount** is the most sold in the **South**"
   ]
  },
  {
   "cell_type": "code",
   "execution_count": 43,
   "id": "d52c5a6e",
   "metadata": {},
   "outputs": [
    {
     "data": {
      "text/html": [
       "<div>\n",
       "<style scoped>\n",
       "    .dataframe tbody tr th:only-of-type {\n",
       "        vertical-align: middle;\n",
       "    }\n",
       "\n",
       "    .dataframe tbody tr th {\n",
       "        vertical-align: top;\n",
       "    }\n",
       "\n",
       "    .dataframe thead th {\n",
       "        text-align: right;\n",
       "    }\n",
       "</style>\n",
       "<table border=\"1\" class=\"dataframe\">\n",
       "  <thead>\n",
       "    <tr style=\"text-align: right;\">\n",
       "      <th></th>\n",
       "      <th>ProductName</th>\n",
       "      <th>Sales</th>\n",
       "    </tr>\n",
       "    <tr>\n",
       "      <th>Region</th>\n",
       "      <th></th>\n",
       "      <th></th>\n",
       "    </tr>\n",
       "  </thead>\n",
       "  <tbody>\n",
       "    <tr>\n",
       "      <th>Central</th>\n",
       "      <td>\"While you Were Out\" Message Book, One Form pe...</td>\n",
       "      <td>0.444</td>\n",
       "    </tr>\n",
       "    <tr>\n",
       "      <th>East</th>\n",
       "      <td>#10 Gummed Flap White Envelopes, 100/Box</td>\n",
       "      <td>0.852</td>\n",
       "    </tr>\n",
       "    <tr>\n",
       "      <th>South</th>\n",
       "      <td>\"While you Were Out\" Message Book, One Form pe...</td>\n",
       "      <td>1.167</td>\n",
       "    </tr>\n",
       "    <tr>\n",
       "      <th>West</th>\n",
       "      <td>\"While you Were Out\" Message Book, One Form pe...</td>\n",
       "      <td>0.990</td>\n",
       "    </tr>\n",
       "  </tbody>\n",
       "</table>\n",
       "</div>"
      ],
      "text/plain": [
       "                                               ProductName  Sales\n",
       "Region                                                           \n",
       "Central  \"While you Were Out\" Message Book, One Form pe...  0.444\n",
       "East              #10 Gummed Flap White Envelopes, 100/Box  0.852\n",
       "South    \"While you Were Out\" Message Book, One Form pe...  1.167\n",
       "West     \"While you Were Out\" Message Book, One Form pe...  0.990"
      ]
     },
     "execution_count": 43,
     "metadata": {},
     "output_type": "execute_result"
    }
   ],
   "source": [
    "#finding the region with the least sold product\n",
    "supply.groupby(['Region'])[['ProductName', 'Sales']].min()"
   ]
  },
  {
   "cell_type": "markdown",
   "id": "93601523",
   "metadata": {},
   "source": [
    "**While you Were Out Message Book** is the least sold product in **Central, South and West** whereas **10 Gummed Flap White Envelopes, 100/Box** ius the least sold product in the **East**"
   ]
  },
  {
   "cell_type": "code",
   "execution_count": 34,
   "id": "e32c4f32",
   "metadata": {},
   "outputs": [
    {
     "data": {
      "image/png": "[encoded data removed]",
      "text/plain": [
       "<Figure size 576x1080 with 1 Axes>"
      ]
     },
     "metadata": {},
     "output_type": "display_data"
    }
   ],
   "source": [
    "#finding total sales made by each region\n",
    "supply.groupby('Region')['Sales'].sum().plot(kind = 'pie', figsize = (8,15), fontsize = 8, autopct = '%1.1f%%')\n",
    "plt.show()"
   ]
  },
  {
   "cell_type": "markdown",
   "id": "8edeb197",
   "metadata": {},
   "source": [
    "From the distribution, West makes the highjest total sales, followed by East, Central and South."
   ]
  },
  {
   "cell_type": "code",
   "execution_count": 35,
   "id": "addd7f22",
   "metadata": {},
   "outputs": [
    {
     "data": {
      "image/png": "[encoded data removed]",
      "text/plain": [
       "<Figure size 576x1080 with 1 Axes>"
      ]
     },
     "metadata": {},
     "output_type": "display_data"
    }
   ],
   "source": [
    "#finding total profit made by each region\n",
    "supply.groupby('Region')['Profit'].sum().plot(kind = 'pie', figsize = (8,15), fontsize = 8, autopct = '%1.1f%%')\n",
    "plt.show()"
   ]
  },
  {
   "cell_type": "code",
   "execution_count": 46,
   "id": "eacff7d5",
   "metadata": {},
   "outputs": [
    {
     "data": {
      "text/html": [
       "<div>\n",
       "<style scoped>\n",
       "    .dataframe tbody tr th:only-of-type {\n",
       "        vertical-align: middle;\n",
       "    }\n",
       "\n",
       "    .dataframe tbody tr th {\n",
       "        vertical-align: top;\n",
       "    }\n",
       "\n",
       "    .dataframe thead th {\n",
       "        text-align: right;\n",
       "    }\n",
       "</style>\n",
       "<table border=\"1\" class=\"dataframe\">\n",
       "  <thead>\n",
       "    <tr style=\"text-align: right;\">\n",
       "      <th></th>\n",
       "      <th>Sales</th>\n",
       "      <th>Quantity</th>\n",
       "      <th>Discount</th>\n",
       "      <th>Profit</th>\n",
       "    </tr>\n",
       "  </thead>\n",
       "  <tbody>\n",
       "    <tr>\n",
       "      <th>Sales</th>\n",
       "      <td>1.000000</td>\n",
       "      <td>0.200794</td>\n",
       "      <td>-0.028187</td>\n",
       "      <td>0.369184</td>\n",
       "    </tr>\n",
       "    <tr>\n",
       "      <th>Quantity</th>\n",
       "      <td>0.200794</td>\n",
       "      <td>1.000000</td>\n",
       "      <td>0.008630</td>\n",
       "      <td>0.056094</td>\n",
       "    </tr>\n",
       "    <tr>\n",
       "      <th>Discount</th>\n",
       "      <td>-0.028187</td>\n",
       "      <td>0.008630</td>\n",
       "      <td>1.000000</td>\n",
       "      <td>-0.203648</td>\n",
       "    </tr>\n",
       "    <tr>\n",
       "      <th>Profit</th>\n",
       "      <td>0.369184</td>\n",
       "      <td>0.056094</td>\n",
       "      <td>-0.203648</td>\n",
       "      <td>1.000000</td>\n",
       "    </tr>\n",
       "  </tbody>\n",
       "</table>\n",
       "</div>"
      ],
      "text/plain": [
       "             Sales  Quantity  Discount    Profit\n",
       "Sales     1.000000  0.200794 -0.028187  0.369184\n",
       "Quantity  0.200794  1.000000  0.008630  0.056094\n",
       "Discount -0.028187  0.008630  1.000000 -0.203648\n",
       "Profit    0.369184  0.056094 -0.203648  1.000000"
      ]
     },
     "execution_count": 46,
     "metadata": {},
     "output_type": "execute_result"
    }
   ],
   "source": [
    "supply.corr()"
   ]
  },
  {
   "cell_type": "markdown",
   "id": "a5cbde64",
   "metadata": {},
   "source": [
    "From the correlation table, it is observe that;\n",
    "1. there is a fairly strong positive correlation between sales and profit where there is a weak positive correlation between sales and quantity.\n",
    "2. there is a very weak negative correlation between sales and discount."
   ]
  }
 ],
 "metadata": {
  "kernelspec": {
   "display_name": "Python 3 (ipykernel)",
   "language": "python",
   "name": "python3"
  },
  "language_info": {
   "codemirror_mode": {
    "name": "ipython",
    "version": 3
   },
   "file_extension": ".py",
   "mimetype": "text/x-python",
   "name": "python",
   "nbconvert_exporter": "python",
   "pygments_lexer": "ipython3",
   "version": "3.9.7"
  }
 },
 "nbformat": 4,
 "nbformat_minor": 5
}
